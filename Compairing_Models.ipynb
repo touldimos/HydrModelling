{
 "cells": [
  {
   "cell_type": "code",
   "execution_count": 1,
   "metadata": {},
   "outputs": [],
   "source": [
    "import matplotlib.pyplot as plt\n",
    "import pandas as pd\n",
    "import numpy as np\n",
    "%matplotlib inline"
   ]
  },
  {
   "cell_type": "code",
   "execution_count": 2,
   "metadata": {},
   "outputs": [],
   "source": [
    "m1=pd.read_excel(\"1st_Model/1st_Model_Table_cal.xlsx\", usecols = [10,11,13,14])\n",
    "m2=pd.read_excel(\"2nd_Model/2nd_Model_Table_cal.xlsx\", usecols = [2,3,4,5])\n",
    "m3=pd.read_excel(\"3rd_Model/3rd_Model_Table_cal.xlsx\", usecols = [2,3,4,5])"
   ]
  },
  {
   "cell_type": "code",
   "execution_count": 3,
   "metadata": {},
   "outputs": [
    {
     "data": {
      "text/html": [
       "<div>\n",
       "<style scoped>\n",
       "    .dataframe tbody tr th:only-of-type {\n",
       "        vertical-align: middle;\n",
       "    }\n",
       "\n",
       "    .dataframe tbody tr th {\n",
       "        vertical-align: top;\n",
       "    }\n",
       "\n",
       "    .dataframe thead th {\n",
       "        text-align: right;\n",
       "    }\n",
       "</style>\n",
       "<table border=\"1\" class=\"dataframe\">\n",
       "  <thead>\n",
       "    <tr style=\"text-align: right;\">\n",
       "      <th></th>\n",
       "      <th>1st_NSE_cal</th>\n",
       "      <th>1st_logN_cal</th>\n",
       "      <th>1st_NSE_val</th>\n",
       "      <th>1st_logN_val</th>\n",
       "    </tr>\n",
       "  </thead>\n",
       "  <tbody>\n",
       "    <tr>\n",
       "      <th>0</th>\n",
       "      <td>0.707263</td>\n",
       "      <td>0.748573</td>\n",
       "      <td>0.272271</td>\n",
       "      <td>0.622732</td>\n",
       "    </tr>\n",
       "    <tr>\n",
       "      <th>1</th>\n",
       "      <td>0.733069</td>\n",
       "      <td>0.778484</td>\n",
       "      <td>0.288135</td>\n",
       "      <td>0.693075</td>\n",
       "    </tr>\n",
       "    <tr>\n",
       "      <th>2</th>\n",
       "      <td>0.712379</td>\n",
       "      <td>0.620037</td>\n",
       "      <td>0.307163</td>\n",
       "      <td>0.551612</td>\n",
       "    </tr>\n",
       "    <tr>\n",
       "      <th>3</th>\n",
       "      <td>0.746678</td>\n",
       "      <td>0.857418</td>\n",
       "      <td>0.364667</td>\n",
       "      <td>0.820881</td>\n",
       "    </tr>\n",
       "    <tr>\n",
       "      <th>4</th>\n",
       "      <td>0.728024</td>\n",
       "      <td>0.773490</td>\n",
       "      <td>0.288128</td>\n",
       "      <td>0.655386</td>\n",
       "    </tr>\n",
       "  </tbody>\n",
       "</table>\n",
       "</div>"
      ],
      "text/plain": [
       "   1st_NSE_cal  1st_logN_cal  1st_NSE_val  1st_logN_val\n",
       "0     0.707263      0.748573     0.272271      0.622732\n",
       "1     0.733069      0.778484     0.288135      0.693075\n",
       "2     0.712379      0.620037     0.307163      0.551612\n",
       "3     0.746678      0.857418     0.364667      0.820881\n",
       "4     0.728024      0.773490     0.288128      0.655386"
      ]
     },
     "execution_count": 3,
     "metadata": {},
     "output_type": "execute_result"
    }
   ],
   "source": [
    "\n",
    "m1.columns = ['1st_NSE_cal','1st_logN_cal','1st_NSE_val','1st_logN_val']\n",
    "m2.columns = ['2nd_NSE_cal','2nd_logN_cal','2nd_NSE_val','2nd_logN_val']\n",
    "m3.columns = ['3rd_NSE_cal','3rd_logN_cal','3rd_NSE_val','3rd_logN_val']\n",
    "m1.head()"
   ]
  },
  {
   "cell_type": "code",
   "execution_count": 4,
   "metadata": {},
   "outputs": [
    {
     "data": {
      "text/html": [
       "<div>\n",
       "<style scoped>\n",
       "    .dataframe tbody tr th:only-of-type {\n",
       "        vertical-align: middle;\n",
       "    }\n",
       "\n",
       "    .dataframe tbody tr th {\n",
       "        vertical-align: top;\n",
       "    }\n",
       "\n",
       "    .dataframe thead th {\n",
       "        text-align: right;\n",
       "    }\n",
       "</style>\n",
       "<table border=\"1\" class=\"dataframe\">\n",
       "  <thead>\n",
       "    <tr style=\"text-align: right;\">\n",
       "      <th></th>\n",
       "      <th>2nd_NSE_cal</th>\n",
       "      <th>2nd_logN_cal</th>\n",
       "      <th>2nd_NSE_val</th>\n",
       "      <th>2nd_logN_val</th>\n",
       "    </tr>\n",
       "  </thead>\n",
       "  <tbody>\n",
       "    <tr>\n",
       "      <th>0</th>\n",
       "      <td>0.677642</td>\n",
       "      <td>0.458871</td>\n",
       "      <td>0.394087</td>\n",
       "      <td>0.045368</td>\n",
       "    </tr>\n",
       "    <tr>\n",
       "      <th>1</th>\n",
       "      <td>0.652958</td>\n",
       "      <td>0.205417</td>\n",
       "      <td>0.406102</td>\n",
       "      <td>-0.156605</td>\n",
       "    </tr>\n",
       "    <tr>\n",
       "      <th>2</th>\n",
       "      <td>0.717214</td>\n",
       "      <td>0.374675</td>\n",
       "      <td>0.432098</td>\n",
       "      <td>0.499220</td>\n",
       "    </tr>\n",
       "    <tr>\n",
       "      <th>3</th>\n",
       "      <td>0.588488</td>\n",
       "      <td>0.459547</td>\n",
       "      <td>0.277911</td>\n",
       "      <td>0.005156</td>\n",
       "    </tr>\n",
       "    <tr>\n",
       "      <th>4</th>\n",
       "      <td>0.615749</td>\n",
       "      <td>0.205428</td>\n",
       "      <td>0.478073</td>\n",
       "      <td>0.200338</td>\n",
       "    </tr>\n",
       "  </tbody>\n",
       "</table>\n",
       "</div>"
      ],
      "text/plain": [
       "   2nd_NSE_cal  2nd_logN_cal  2nd_NSE_val  2nd_logN_val\n",
       "0     0.677642      0.458871     0.394087      0.045368\n",
       "1     0.652958      0.205417     0.406102     -0.156605\n",
       "2     0.717214      0.374675     0.432098      0.499220\n",
       "3     0.588488      0.459547     0.277911      0.005156\n",
       "4     0.615749      0.205428     0.478073      0.200338"
      ]
     },
     "execution_count": 4,
     "metadata": {},
     "output_type": "execute_result"
    }
   ],
   "source": [
    "m2.shape\n",
    "m2.head()"
   ]
  },
  {
   "cell_type": "code",
   "execution_count": 5,
   "metadata": {},
   "outputs": [
    {
     "data": {
      "text/plain": [
       "(68, 4)"
      ]
     },
     "execution_count": 5,
     "metadata": {},
     "output_type": "execute_result"
    }
   ],
   "source": [
    "m3.shape"
   ]
  },
  {
   "cell_type": "code",
   "execution_count": 6,
   "metadata": {},
   "outputs": [
    {
     "data": {
      "text/plain": [
       "Index(['1st_NSE_cal', '1st_logN_cal', '1st_NSE_val', '1st_logN_val'], dtype='object')"
      ]
     },
     "execution_count": 6,
     "metadata": {},
     "output_type": "execute_result"
    }
   ],
   "source": [
    "m1.columns"
   ]
  },
  {
   "cell_type": "code",
   "execution_count": 7,
   "metadata": {},
   "outputs": [
    {
     "data": {
      "text/plain": [
       "Index(['2nd_NSE_cal', '2nd_logN_cal', '2nd_NSE_val', '2nd_logN_val'], dtype='object')"
      ]
     },
     "execution_count": 7,
     "metadata": {},
     "output_type": "execute_result"
    }
   ],
   "source": [
    "m2.columns"
   ]
  },
  {
   "cell_type": "code",
   "execution_count": 8,
   "metadata": {},
   "outputs": [
    {
     "data": {
      "text/plain": [
       "Index(['3rd_NSE_cal', '3rd_logN_cal', '3rd_NSE_val', '3rd_logN_val'], dtype='object')"
      ]
     },
     "execution_count": 8,
     "metadata": {},
     "output_type": "execute_result"
    }
   ],
   "source": [
    "m3.columns"
   ]
  },
  {
   "cell_type": "code",
   "execution_count": 9,
   "metadata": {},
   "outputs": [],
   "source": [
    "df_final = pd.concat([m1, m2,m3], ignore_index=True)"
   ]
  },
  {
   "cell_type": "code",
   "execution_count": 10,
   "metadata": {},
   "outputs": [
    {
     "data": {
      "text/html": [
       "<div>\n",
       "<style scoped>\n",
       "    .dataframe tbody tr th:only-of-type {\n",
       "        vertical-align: middle;\n",
       "    }\n",
       "\n",
       "    .dataframe tbody tr th {\n",
       "        vertical-align: top;\n",
       "    }\n",
       "\n",
       "    .dataframe thead th {\n",
       "        text-align: right;\n",
       "    }\n",
       "</style>\n",
       "<table border=\"1\" class=\"dataframe\">\n",
       "  <thead>\n",
       "    <tr style=\"text-align: right;\">\n",
       "      <th></th>\n",
       "      <th>1st_NSE_cal</th>\n",
       "      <th>1st_logN_cal</th>\n",
       "      <th>1st_NSE_val</th>\n",
       "      <th>1st_logN_val</th>\n",
       "      <th>2nd_NSE_cal</th>\n",
       "      <th>2nd_logN_cal</th>\n",
       "      <th>2nd_NSE_val</th>\n",
       "      <th>2nd_logN_val</th>\n",
       "      <th>3rd_NSE_cal</th>\n",
       "      <th>3rd_logN_cal</th>\n",
       "      <th>3rd_NSE_val</th>\n",
       "      <th>3rd_logN_val</th>\n",
       "    </tr>\n",
       "  </thead>\n",
       "  <tbody>\n",
       "    <tr>\n",
       "      <th>0</th>\n",
       "      <td>0.707263</td>\n",
       "      <td>0.748573</td>\n",
       "      <td>0.272271</td>\n",
       "      <td>0.622732</td>\n",
       "      <td>NaN</td>\n",
       "      <td>NaN</td>\n",
       "      <td>NaN</td>\n",
       "      <td>NaN</td>\n",
       "      <td>NaN</td>\n",
       "      <td>NaN</td>\n",
       "      <td>NaN</td>\n",
       "      <td>NaN</td>\n",
       "    </tr>\n",
       "    <tr>\n",
       "      <th>1</th>\n",
       "      <td>0.733069</td>\n",
       "      <td>0.778484</td>\n",
       "      <td>0.288135</td>\n",
       "      <td>0.693075</td>\n",
       "      <td>NaN</td>\n",
       "      <td>NaN</td>\n",
       "      <td>NaN</td>\n",
       "      <td>NaN</td>\n",
       "      <td>NaN</td>\n",
       "      <td>NaN</td>\n",
       "      <td>NaN</td>\n",
       "      <td>NaN</td>\n",
       "    </tr>\n",
       "    <tr>\n",
       "      <th>2</th>\n",
       "      <td>0.712379</td>\n",
       "      <td>0.620037</td>\n",
       "      <td>0.307163</td>\n",
       "      <td>0.551612</td>\n",
       "      <td>NaN</td>\n",
       "      <td>NaN</td>\n",
       "      <td>NaN</td>\n",
       "      <td>NaN</td>\n",
       "      <td>NaN</td>\n",
       "      <td>NaN</td>\n",
       "      <td>NaN</td>\n",
       "      <td>NaN</td>\n",
       "    </tr>\n",
       "    <tr>\n",
       "      <th>3</th>\n",
       "      <td>0.746678</td>\n",
       "      <td>0.857418</td>\n",
       "      <td>0.364667</td>\n",
       "      <td>0.820881</td>\n",
       "      <td>NaN</td>\n",
       "      <td>NaN</td>\n",
       "      <td>NaN</td>\n",
       "      <td>NaN</td>\n",
       "      <td>NaN</td>\n",
       "      <td>NaN</td>\n",
       "      <td>NaN</td>\n",
       "      <td>NaN</td>\n",
       "    </tr>\n",
       "    <tr>\n",
       "      <th>4</th>\n",
       "      <td>0.728024</td>\n",
       "      <td>0.773490</td>\n",
       "      <td>0.288128</td>\n",
       "      <td>0.655386</td>\n",
       "      <td>NaN</td>\n",
       "      <td>NaN</td>\n",
       "      <td>NaN</td>\n",
       "      <td>NaN</td>\n",
       "      <td>NaN</td>\n",
       "      <td>NaN</td>\n",
       "      <td>NaN</td>\n",
       "      <td>NaN</td>\n",
       "    </tr>\n",
       "    <tr>\n",
       "      <th>...</th>\n",
       "      <td>...</td>\n",
       "      <td>...</td>\n",
       "      <td>...</td>\n",
       "      <td>...</td>\n",
       "      <td>...</td>\n",
       "      <td>...</td>\n",
       "      <td>...</td>\n",
       "      <td>...</td>\n",
       "      <td>...</td>\n",
       "      <td>...</td>\n",
       "      <td>...</td>\n",
       "      <td>...</td>\n",
       "    </tr>\n",
       "    <tr>\n",
       "      <th>2663</th>\n",
       "      <td>NaN</td>\n",
       "      <td>NaN</td>\n",
       "      <td>NaN</td>\n",
       "      <td>NaN</td>\n",
       "      <td>NaN</td>\n",
       "      <td>NaN</td>\n",
       "      <td>NaN</td>\n",
       "      <td>NaN</td>\n",
       "      <td>0.619045</td>\n",
       "      <td>0.289245</td>\n",
       "      <td>0.359882</td>\n",
       "      <td>0.432246</td>\n",
       "    </tr>\n",
       "    <tr>\n",
       "      <th>2664</th>\n",
       "      <td>NaN</td>\n",
       "      <td>NaN</td>\n",
       "      <td>NaN</td>\n",
       "      <td>NaN</td>\n",
       "      <td>NaN</td>\n",
       "      <td>NaN</td>\n",
       "      <td>NaN</td>\n",
       "      <td>NaN</td>\n",
       "      <td>0.692621</td>\n",
       "      <td>0.340288</td>\n",
       "      <td>0.481099</td>\n",
       "      <td>0.642717</td>\n",
       "    </tr>\n",
       "    <tr>\n",
       "      <th>2665</th>\n",
       "      <td>NaN</td>\n",
       "      <td>NaN</td>\n",
       "      <td>NaN</td>\n",
       "      <td>NaN</td>\n",
       "      <td>NaN</td>\n",
       "      <td>NaN</td>\n",
       "      <td>NaN</td>\n",
       "      <td>NaN</td>\n",
       "      <td>0.638189</td>\n",
       "      <td>0.213439</td>\n",
       "      <td>0.346583</td>\n",
       "      <td>0.395403</td>\n",
       "    </tr>\n",
       "    <tr>\n",
       "      <th>2666</th>\n",
       "      <td>NaN</td>\n",
       "      <td>NaN</td>\n",
       "      <td>NaN</td>\n",
       "      <td>NaN</td>\n",
       "      <td>NaN</td>\n",
       "      <td>NaN</td>\n",
       "      <td>NaN</td>\n",
       "      <td>NaN</td>\n",
       "      <td>0.713008</td>\n",
       "      <td>0.109691</td>\n",
       "      <td>0.494086</td>\n",
       "      <td>0.393157</td>\n",
       "    </tr>\n",
       "    <tr>\n",
       "      <th>2667</th>\n",
       "      <td>NaN</td>\n",
       "      <td>NaN</td>\n",
       "      <td>NaN</td>\n",
       "      <td>NaN</td>\n",
       "      <td>NaN</td>\n",
       "      <td>NaN</td>\n",
       "      <td>NaN</td>\n",
       "      <td>NaN</td>\n",
       "      <td>0.676773</td>\n",
       "      <td>0.058940</td>\n",
       "      <td>0.414945</td>\n",
       "      <td>0.272393</td>\n",
       "    </tr>\n",
       "  </tbody>\n",
       "</table>\n",
       "<p>2668 rows × 12 columns</p>\n",
       "</div>"
      ],
      "text/plain": [
       "      1st_NSE_cal  1st_logN_cal  1st_NSE_val  1st_logN_val  2nd_NSE_cal  \\\n",
       "0        0.707263      0.748573     0.272271      0.622732          NaN   \n",
       "1        0.733069      0.778484     0.288135      0.693075          NaN   \n",
       "2        0.712379      0.620037     0.307163      0.551612          NaN   \n",
       "3        0.746678      0.857418     0.364667      0.820881          NaN   \n",
       "4        0.728024      0.773490     0.288128      0.655386          NaN   \n",
       "...           ...           ...          ...           ...          ...   \n",
       "2663          NaN           NaN          NaN           NaN          NaN   \n",
       "2664          NaN           NaN          NaN           NaN          NaN   \n",
       "2665          NaN           NaN          NaN           NaN          NaN   \n",
       "2666          NaN           NaN          NaN           NaN          NaN   \n",
       "2667          NaN           NaN          NaN           NaN          NaN   \n",
       "\n",
       "      2nd_logN_cal  2nd_NSE_val  2nd_logN_val  3rd_NSE_cal  3rd_logN_cal  \\\n",
       "0              NaN          NaN           NaN          NaN           NaN   \n",
       "1              NaN          NaN           NaN          NaN           NaN   \n",
       "2              NaN          NaN           NaN          NaN           NaN   \n",
       "3              NaN          NaN           NaN          NaN           NaN   \n",
       "4              NaN          NaN           NaN          NaN           NaN   \n",
       "...            ...          ...           ...          ...           ...   \n",
       "2663           NaN          NaN           NaN     0.619045      0.289245   \n",
       "2664           NaN          NaN           NaN     0.692621      0.340288   \n",
       "2665           NaN          NaN           NaN     0.638189      0.213439   \n",
       "2666           NaN          NaN           NaN     0.713008      0.109691   \n",
       "2667           NaN          NaN           NaN     0.676773      0.058940   \n",
       "\n",
       "      3rd_NSE_val  3rd_logN_val  \n",
       "0             NaN           NaN  \n",
       "1             NaN           NaN  \n",
       "2             NaN           NaN  \n",
       "3             NaN           NaN  \n",
       "4             NaN           NaN  \n",
       "...           ...           ...  \n",
       "2663     0.359882      0.432246  \n",
       "2664     0.481099      0.642717  \n",
       "2665     0.346583      0.395403  \n",
       "2666     0.494086      0.393157  \n",
       "2667     0.414945      0.272393  \n",
       "\n",
       "[2668 rows x 12 columns]"
      ]
     },
     "execution_count": 10,
     "metadata": {},
     "output_type": "execute_result"
    }
   ],
   "source": [
    "df_final"
   ]
  },
  {
   "cell_type": "code",
   "execution_count": 11,
   "metadata": {},
   "outputs": [
    {
     "data": {
      "text/html": [
       "<div>\n",
       "<style scoped>\n",
       "    .dataframe tbody tr th:only-of-type {\n",
       "        vertical-align: middle;\n",
       "    }\n",
       "\n",
       "    .dataframe tbody tr th {\n",
       "        vertical-align: top;\n",
       "    }\n",
       "\n",
       "    .dataframe thead th {\n",
       "        text-align: right;\n",
       "    }\n",
       "</style>\n",
       "<table border=\"1\" class=\"dataframe\">\n",
       "  <thead>\n",
       "    <tr style=\"text-align: right;\">\n",
       "      <th></th>\n",
       "      <th>1st_NSE_cal</th>\n",
       "      <th>1st_logN_cal</th>\n",
       "      <th>1st_NSE_val</th>\n",
       "      <th>1st_logN_val</th>\n",
       "      <th>2nd_NSE_cal</th>\n",
       "      <th>2nd_logN_cal</th>\n",
       "      <th>2nd_NSE_val</th>\n",
       "      <th>2nd_logN_val</th>\n",
       "      <th>3rd_NSE_cal</th>\n",
       "      <th>3rd_logN_cal</th>\n",
       "      <th>3rd_NSE_val</th>\n",
       "      <th>3rd_logN_val</th>\n",
       "    </tr>\n",
       "  </thead>\n",
       "  <tbody>\n",
       "    <tr>\n",
       "      <th>count</th>\n",
       "      <td>2006.000000</td>\n",
       "      <td>2006.000000</td>\n",
       "      <td>2006.000000</td>\n",
       "      <td>2006.000000</td>\n",
       "      <td>594.000000</td>\n",
       "      <td>594.000000</td>\n",
       "      <td>594.000000</td>\n",
       "      <td>594.000000</td>\n",
       "      <td>68.000000</td>\n",
       "      <td>68.000000</td>\n",
       "      <td>68.000000</td>\n",
       "      <td>68.000000</td>\n",
       "    </tr>\n",
       "    <tr>\n",
       "      <th>mean</th>\n",
       "      <td>0.768812</td>\n",
       "      <td>0.742226</td>\n",
       "      <td>0.512966</td>\n",
       "      <td>0.731960</td>\n",
       "      <td>0.706349</td>\n",
       "      <td>0.425793</td>\n",
       "      <td>0.476298</td>\n",
       "      <td>0.441673</td>\n",
       "      <td>0.679676</td>\n",
       "      <td>0.348108</td>\n",
       "      <td>0.474964</td>\n",
       "      <td>0.335904</td>\n",
       "    </tr>\n",
       "    <tr>\n",
       "      <th>std</th>\n",
       "      <td>0.038611</td>\n",
       "      <td>0.106595</td>\n",
       "      <td>0.105038</td>\n",
       "      <td>0.106285</td>\n",
       "      <td>0.075259</td>\n",
       "      <td>0.138421</td>\n",
       "      <td>0.074230</td>\n",
       "      <td>0.215758</td>\n",
       "      <td>0.113458</td>\n",
       "      <td>0.179520</td>\n",
       "      <td>0.068773</td>\n",
       "      <td>0.288597</td>\n",
       "    </tr>\n",
       "    <tr>\n",
       "      <th>min</th>\n",
       "      <td>0.700033</td>\n",
       "      <td>0.500227</td>\n",
       "      <td>0.239242</td>\n",
       "      <td>0.158547</td>\n",
       "      <td>0.230410</td>\n",
       "      <td>0.200089</td>\n",
       "      <td>0.238392</td>\n",
       "      <td>-0.705429</td>\n",
       "      <td>0.169674</td>\n",
       "      <td>0.000697</td>\n",
       "      <td>0.290108</td>\n",
       "      <td>-0.418559</td>\n",
       "    </tr>\n",
       "    <tr>\n",
       "      <th>25%</th>\n",
       "      <td>0.737551</td>\n",
       "      <td>0.660320</td>\n",
       "      <td>0.435554</td>\n",
       "      <td>0.664895</td>\n",
       "      <td>0.670972</td>\n",
       "      <td>0.311290</td>\n",
       "      <td>0.424427</td>\n",
       "      <td>0.345823</td>\n",
       "      <td>0.634775</td>\n",
       "      <td>0.223377</td>\n",
       "      <td>0.428203</td>\n",
       "      <td>0.188367</td>\n",
       "    </tr>\n",
       "    <tr>\n",
       "      <th>50%</th>\n",
       "      <td>0.766464</td>\n",
       "      <td>0.759770</td>\n",
       "      <td>0.509699</td>\n",
       "      <td>0.745677</td>\n",
       "      <td>0.718270</td>\n",
       "      <td>0.412709</td>\n",
       "      <td>0.480063</td>\n",
       "      <td>0.502513</td>\n",
       "      <td>0.713711</td>\n",
       "      <td>0.358389</td>\n",
       "      <td>0.480833</td>\n",
       "      <td>0.394862</td>\n",
       "    </tr>\n",
       "    <tr>\n",
       "      <th>75%</th>\n",
       "      <td>0.797924</td>\n",
       "      <td>0.832222</td>\n",
       "      <td>0.586667</td>\n",
       "      <td>0.811745</td>\n",
       "      <td>0.756428</td>\n",
       "      <td>0.529770</td>\n",
       "      <td>0.531703</td>\n",
       "      <td>0.586708</td>\n",
       "      <td>0.745057</td>\n",
       "      <td>0.474773</td>\n",
       "      <td>0.524771</td>\n",
       "      <td>0.563834</td>\n",
       "    </tr>\n",
       "    <tr>\n",
       "      <th>max</th>\n",
       "      <td>0.867568</td>\n",
       "      <td>0.922918</td>\n",
       "      <td>0.792434</td>\n",
       "      <td>0.928261</td>\n",
       "      <td>0.835409</td>\n",
       "      <td>0.785370</td>\n",
       "      <td>0.667465</td>\n",
       "      <td>0.775475</td>\n",
       "      <td>0.813656</td>\n",
       "      <td>0.766179</td>\n",
       "      <td>0.624998</td>\n",
       "      <td>0.724867</td>\n",
       "    </tr>\n",
       "  </tbody>\n",
       "</table>\n",
       "</div>"
      ],
      "text/plain": [
       "       1st_NSE_cal  1st_logN_cal  1st_NSE_val  1st_logN_val  2nd_NSE_cal  \\\n",
       "count  2006.000000   2006.000000  2006.000000   2006.000000   594.000000   \n",
       "mean      0.768812      0.742226     0.512966      0.731960     0.706349   \n",
       "std       0.038611      0.106595     0.105038      0.106285     0.075259   \n",
       "min       0.700033      0.500227     0.239242      0.158547     0.230410   \n",
       "25%       0.737551      0.660320     0.435554      0.664895     0.670972   \n",
       "50%       0.766464      0.759770     0.509699      0.745677     0.718270   \n",
       "75%       0.797924      0.832222     0.586667      0.811745     0.756428   \n",
       "max       0.867568      0.922918     0.792434      0.928261     0.835409   \n",
       "\n",
       "       2nd_logN_cal  2nd_NSE_val  2nd_logN_val  3rd_NSE_cal  3rd_logN_cal  \\\n",
       "count    594.000000   594.000000    594.000000    68.000000     68.000000   \n",
       "mean       0.425793     0.476298      0.441673     0.679676      0.348108   \n",
       "std        0.138421     0.074230      0.215758     0.113458      0.179520   \n",
       "min        0.200089     0.238392     -0.705429     0.169674      0.000697   \n",
       "25%        0.311290     0.424427      0.345823     0.634775      0.223377   \n",
       "50%        0.412709     0.480063      0.502513     0.713711      0.358389   \n",
       "75%        0.529770     0.531703      0.586708     0.745057      0.474773   \n",
       "max        0.785370     0.667465      0.775475     0.813656      0.766179   \n",
       "\n",
       "       3rd_NSE_val  3rd_logN_val  \n",
       "count    68.000000     68.000000  \n",
       "mean      0.474964      0.335904  \n",
       "std       0.068773      0.288597  \n",
       "min       0.290108     -0.418559  \n",
       "25%       0.428203      0.188367  \n",
       "50%       0.480833      0.394862  \n",
       "75%       0.524771      0.563834  \n",
       "max       0.624998      0.724867  "
      ]
     },
     "execution_count": 11,
     "metadata": {},
     "output_type": "execute_result"
    }
   ],
   "source": [
    "df_final.describe()"
   ]
  },
  {
   "cell_type": "code",
   "execution_count": 12,
   "metadata": {},
   "outputs": [
    {
     "name": "stderr",
     "output_type": "stream",
     "text": [
      "C:\\Users\\ALEXIS\\Anaconda3\\lib\\site-packages\\numpy\\core\\_asarray.py:83: VisibleDeprecationWarning: Creating an ndarray from ragged nested sequences (which is a list-or-tuple of lists-or-tuples-or ndarrays with different lengths or shapes) is deprecated. If you meant to do this, you must specify 'dtype=object' when creating the ndarray\n",
      "  return array(a, dtype, copy=False, order=order)\n"
     ]
    },
    {
     "data": {
      "image/png": "[encoded data removed]",
      "text/plain": [
       "<Figure size 1296x576 with 2 Axes>"
      ]
     },
     "metadata": {
      "needs_background": "light"
     },
     "output_type": "display_data"
    }
   ],
   "source": [
    "plt.figure(figsize=(18,8))\n",
    "plt.subplot(121)\n",
    "plt.ylabel('NSE')\n",
    "df_final.boxplot(ax=plt.gca(), column=['1st_NSE_cal', '2nd_NSE_cal', '3rd_NSE_cal', '1st_NSE_val', '2nd_NSE_val', '3rd_NSE_val'],rot=45)\n",
    "\n",
    "plt.subplot(122)\n",
    "plt.ylabel('NSE-log')\n",
    "df_final.boxplot(ax=plt.gca(), column=['1st_logN_cal', '2nd_logN_cal', '3rd_logN_cal', '1st_logN_val', '2nd_logN_val', '3rd_logN_val'], rot=45)\n",
    "plt.savefig('Compairing modles NSEs')"
   ]
  },
  {
   "cell_type": "code",
   "execution_count": 13,
   "metadata": {},
   "outputs": [],
   "source": [
    "m1['NSE'] = m1.iloc[:,0] #+ m1.iloc[:,2])/2 \n",
    "m1['NSE_log'] = m1.iloc[:,1] #+ m1.iloc[:,3]\n",
    "feasible_sol_A= pd.DataFrame(data= m1.iloc[:,4:], columns= ['NSE', 'NSE_log'])\n",
    "m2['NSE'] = m2.iloc[:,0] #+ m2.iloc[:,2])/2 \n",
    "m2['NSE_log'] = m2.iloc[:,1]# + m2.iloc[:,3]\n",
    "feasible_sol_B= pd.DataFrame(data= m2.iloc[:,4:], columns= ['NSE', 'NSE_log'])\n",
    "m3['NSE'] = m3.iloc[:,0] #+ m1.iloc[:,2])/2 \n",
    "m3['NSE_log'] = m3.iloc[:,1] #+ m3.iloc[:,3]\n",
    "feasible_sol_C= pd.DataFrame(data= m3.iloc[:,4:], columns= ['NSE', 'NSE_log'])"
   ]
  },
  {
   "cell_type": "code",
   "execution_count": 14,
   "metadata": {},
   "outputs": [
    {
     "data": {
      "text/html": [
       "<div>\n",
       "<style scoped>\n",
       "    .dataframe tbody tr th:only-of-type {\n",
       "        vertical-align: middle;\n",
       "    }\n",
       "\n",
       "    .dataframe tbody tr th {\n",
       "        vertical-align: top;\n",
       "    }\n",
       "\n",
       "    .dataframe thead th {\n",
       "        text-align: right;\n",
       "    }\n",
       "</style>\n",
       "<table border=\"1\" class=\"dataframe\">\n",
       "  <thead>\n",
       "    <tr style=\"text-align: right;\">\n",
       "      <th></th>\n",
       "      <th>NSE</th>\n",
       "      <th>NSE_log</th>\n",
       "    </tr>\n",
       "  </thead>\n",
       "  <tbody>\n",
       "    <tr>\n",
       "      <th>0</th>\n",
       "      <td>0.707263</td>\n",
       "      <td>0.748573</td>\n",
       "    </tr>\n",
       "    <tr>\n",
       "      <th>1</th>\n",
       "      <td>0.733069</td>\n",
       "      <td>0.778484</td>\n",
       "    </tr>\n",
       "    <tr>\n",
       "      <th>2</th>\n",
       "      <td>0.712379</td>\n",
       "      <td>0.620037</td>\n",
       "    </tr>\n",
       "    <tr>\n",
       "      <th>3</th>\n",
       "      <td>0.746678</td>\n",
       "      <td>0.857418</td>\n",
       "    </tr>\n",
       "    <tr>\n",
       "      <th>4</th>\n",
       "      <td>0.728024</td>\n",
       "      <td>0.773490</td>\n",
       "    </tr>\n",
       "  </tbody>\n",
       "</table>\n",
       "</div>"
      ],
      "text/plain": [
       "        NSE   NSE_log\n",
       "0  0.707263  0.748573\n",
       "1  0.733069  0.778484\n",
       "2  0.712379  0.620037\n",
       "3  0.746678  0.857418\n",
       "4  0.728024  0.773490"
      ]
     },
     "execution_count": 14,
     "metadata": {},
     "output_type": "execute_result"
    }
   ],
   "source": [
    "feasible_sol_A.head()"
   ]
  },
  {
   "cell_type": "code",
   "execution_count": 15,
   "metadata": {},
   "outputs": [
    {
     "data": {
      "text/plain": [
       "(594, 2)"
      ]
     },
     "execution_count": 15,
     "metadata": {},
     "output_type": "execute_result"
    }
   ],
   "source": [
    "feasible_sol_B.shape"
   ]
  },
  {
   "cell_type": "code",
   "execution_count": 16,
   "metadata": {},
   "outputs": [
    {
     "data": {
      "text/plain": [
       "(68, 2)"
      ]
     },
     "execution_count": 16,
     "metadata": {},
     "output_type": "execute_result"
    }
   ],
   "source": [
    "feasible_sol_C.shape"
   ]
  },
  {
   "cell_type": "code",
   "execution_count": 17,
   "metadata": {},
   "outputs": [
    {
     "data": {
      "image/png": "[encoded data removed]",
      "text/plain": [
       "<Figure size 504x504 with 1 Axes>"
      ]
     },
     "metadata": {
      "needs_background": "light"
     },
     "output_type": "display_data"
    }
   ],
   "source": [
    "plt.figure(figsize=(7,7))\n",
    "plt.scatter(1-feasible_sol_A['NSE'],1-feasible_sol_A['NSE_log'], marker='*', label='1st Model')\n",
    "plt.scatter(1-feasible_sol_B['NSE'],1-feasible_sol_B['NSE_log'], marker='+', color='brown', label='2nd Model')\n",
    "plt.scatter(1-feasible_sol_C['NSE'],1-feasible_sol_C['NSE_log'], marker='s', color='green', label='3rd Model')\n",
    "plt.xlabel('1-NSE')\n",
    "plt.xlim(0,1)\n",
    "plt.ylabel('1-log_NSE')\n",
    "plt.legend()\n",
    "plt.savefig('Pareto_figure')"
   ]
  },
  {
   "cell_type": "code",
   "execution_count": null,
   "metadata": {},
   "outputs": [],
   "source": []
  }
 ],
 "metadata": {
  "kernelspec": {
   "display_name": "Python 3",
   "language": "python",
   "name": "python3"
  },
  "language_info": {
   "codemirror_mode": {
    "name": "ipython",
    "version": 3
   },
   "file_extension": ".py",
   "mimetype": "text/x-python",
   "name": "python",
   "nbconvert_exporter": "python",
   "pygments_lexer": "ipython3",
   "version": "3.7.8"
  },
  "latex_envs": {
   "LaTeX_envs_menu_present": true,
   "autoclose": false,
   "autocomplete": true,
   "bibliofile": "biblio.bib",
   "cite_by": "apalike",
   "current_citInitial": 1,
   "eqLabelWithNumbers": true,
   "eqNumInitial": 1,
   "hotkeys": {
    "equation": "Ctrl-E",
    "itemize": "Ctrl-I"
   },
   "labels_anchors": false,
   "latex_user_defs": false,
   "report_style_numbering": false,
   "user_envs_cfg": false
  }
 },
 "nbformat": 4,
 "nbformat_minor": 2
}
